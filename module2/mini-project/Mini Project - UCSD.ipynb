{
 "cells": [
  {
   "attachments": {},
   "cell_type": "markdown",
   "metadata": {},
   "source": [
    "# Mini Proje - UCSD\n",
    "## Detayli Bilgi\n",
    "Bu proje UCSanDiegoX: DSE200x kursunun 6. haftasina denk gelen calismayi icermektedir. Projede kullanilan veri Movielens datasetini icermekte ve yillara ait cesitli filmlere verilmis puanlari incelemektedir. Calismada *ml-latest.zip* dosyasi kullanilmis olup 58.000 film icin 280.000 kullanici tarafindan verilmis toplam 27.000.000 puan bilgisini icermektedir. Dosya boyutu buyuk oldugu icin bu dosyaya dahil edilmemis, altta referans edilen sayfadan indirilebilmektedir.\n",
    "\n",
    "* **Veri Lokasyonu:** https://grouplens.org/datasets/movielens/\n",
    "\n",
    "## Motivasyon\n",
    "Kisisel olarak genc yaslarimda izlemis oldugum ve etkilendigim Sci-Fi filmlerini yillar sonra tekrar izledigimde, bende ilk izledigimden cok farkli bir izlenim birakmaktadir. \n",
    "Buradan yola cikarak, ciktigi yila gercekci bir sekilde hitap eden vezamanin teknolojik imkanlarini sonuna kadar kullanan filmlerin uzerinden yillar gecince tekrar degerlendiginde o gunun sartlarindan etkilenilerek farkli degerlendirildigi ihtimalinin oldugunu dusunmekteyim. Calismanin amaci bu soruya yanit bulmaktir.\n",
    "\n",
    "\n"
   ]
  },
  {
   "cell_type": "markdown",
   "metadata": {},
   "source": [
    "# Temel Kutuphane Kullanimi Icin Hazirlik\n",
    "Calismadan kullanilacak olan kutuphaneleri import ediyoruz."
   ]
  },
  {
   "cell_type": "code",
   "execution_count": 1,
   "metadata": {},
   "outputs": [],
   "source": [
    "import os\n",
    "import pandas as pd\n",
    "import numpy as np\n",
    "import matplotlib.pyplot as plt\n",
    "\n",
    "# veri iceren data klasoru yeri\n",
    "PROJECT_FOLDER = 'movielens'\n",
    "\n",
    "# Oy sayisi 1000 alti olan filmleri degerlendirmeye almayacagiz\n",
    "MIN_VOTE_THRESHOLD = 1000\n",
    "\n",
    "%matplotlib inline\n",
    "plt.style.use('ggplot')"
   ]
  },
  {
   "cell_type": "markdown",
   "metadata": {},
   "source": [
    "# Calisilacak Dosyalarin Ve Iceriklerinin Kontrolu\n",
    "Indirilen dosyalar buyuk oldugu icin, Unix komutlari kullanilarak hangi dosyalarla calisacagimiza ve onlarin iceriklerine iliskin temel ipuclari bulalim."
   ]
  },
  {
   "cell_type": "code",
   "execution_count": 2,
   "metadata": {},
   "outputs": [
    {
     "name": "stdout",
     "output_type": "stream",
     "text": [
      "links.csv\n",
      "movies.csv\n",
      "ratings.csv\n",
      "README.txt\n",
      "tags.csv\n"
     ]
    }
   ],
   "source": [
    "# klasorun icine goz atalim\n",
    "!ls ./movielens"
   ]
  },
  {
   "cell_type": "code",
   "execution_count": 3,
   "metadata": {},
   "outputs": [
    {
     "name": "stdout",
     "output_type": "stream",
     "text": [
      "movieId,imdbId,tmdbId\n",
      "1,0114709,862\n",
      "2,0113497,8844\n",
      "3,0113228,15602\n",
      "4,0114885,31357\n",
      "5,0113041,11862\n",
      "6,0113277,949\n",
      "7,0114319,11860\n",
      "8,0112302,45325\n",
      "9,0114576,9091\n"
     ]
    }
   ],
   "source": [
    "# teker teker dosyalarin ust 10 satirina bakip icerigini ogrenelim\n",
    "!head ./movielens/links.csv"
   ]
  },
  {
   "cell_type": "code",
   "execution_count": 4,
   "metadata": {},
   "outputs": [
    {
     "name": "stdout",
     "output_type": "stream",
     "text": [
      "movieId,title,genres\n",
      "1,Toy Story (1995),Adventure|Animation|Children|Comedy|Fantasy\n",
      "2,Jumanji (1995),Adventure|Children|Fantasy\n",
      "3,Grumpier Old Men (1995),Comedy|Romance\n",
      "4,Waiting to Exhale (1995),Comedy|Drama|Romance\n",
      "5,Father of the Bride Part II (1995),Comedy\n",
      "6,Heat (1995),Action|Crime|Thriller\n",
      "7,Sabrina (1995),Comedy|Romance\n",
      "8,Tom and Huck (1995),Adventure|Children\n",
      "9,Sudden Death (1995),Action\n"
     ]
    }
   ],
   "source": [
    "!head ./movielens/movies.csv"
   ]
  },
  {
   "cell_type": "code",
   "execution_count": 5,
   "metadata": {},
   "outputs": [
    {
     "name": "stdout",
     "output_type": "stream",
     "text": [
      "userId,movieId,rating,timestamp\n",
      "1,307,3.5,1256677221\n",
      "1,481,3.5,1256677456\n",
      "1,1091,1.5,1256677471\n",
      "1,1257,4.5,1256677460\n",
      "1,1449,4.5,1256677264\n",
      "1,1590,2.5,1256677236\n",
      "1,1591,1.5,1256677475\n",
      "1,2134,4.5,1256677464\n",
      "1,2478,4.0,1256677239\n"
     ]
    }
   ],
   "source": [
    "!head ./movielens/ratings.csv"
   ]
  },
  {
   "cell_type": "code",
   "execution_count": 6,
   "metadata": {},
   "outputs": [
    {
     "name": "stdout",
     "output_type": "stream",
     "text": [
      "userId,movieId,tag,timestamp\n",
      "14,110,epic,1443148538\n",
      "14,110,Medieval,1443148532\n",
      "14,260,sci-fi,1442169410\n",
      "14,260,space action,1442169421\n",
      "14,318,imdb top 250,1442615195\n",
      "14,318,justice,1442615192\n",
      "14,480,Dinosaurs,1443148563\n",
      "14,593,psychothriller,1444014286\n",
      "14,1682,philosophy,1442615158\n"
     ]
    }
   ],
   "source": [
    "!head ./movielens/tags.csv"
   ]
  },
  {
   "cell_type": "markdown",
   "metadata": {},
   "source": [
    "Bu projede filmlere verilen puanlarla calisacagimiz icin sadece iki dosya ile calisiyor olacagiz. Dosyalari platform bagimsiz adresleme yaparak Pandas Dataframe icine alalim."
   ]
  },
  {
   "cell_type": "code",
   "execution_count": 7,
   "metadata": {},
   "outputs": [],
   "source": [
    "MOVIES_FILE = os.path.join(PROJECT_FOLDER, 'movies.csv')\n",
    "RATINGS_FILE = os.path.join(PROJECT_FOLDER, 'ratings.csv')\n",
    "\n",
    "movies_df = pd.read_csv(MOVIES_FILE)\n",
    "ratings_df = pd.read_csv(RATINGS_FILE)"
   ]
  },
  {
   "cell_type": "markdown",
   "metadata": {},
   "source": [
    "# Detayli Icerik Analizi\n",
    "Calisacagimiz dosyalari dataframe icerisine cektik. Simdi dataframe olarak icindeki bilgilerin adedine ve sekline tekrar goz atalim."
   ]
  },
  {
   "cell_type": "code",
   "execution_count": 8,
   "metadata": {},
   "outputs": [
    {
     "data": {
      "text/plain": [
       "(58098, 3)"
      ]
     },
     "execution_count": 8,
     "metadata": {},
     "output_type": "execute_result"
    }
   ],
   "source": [
    "movies_df.shape\n"
   ]
  },
  {
   "cell_type": "code",
   "execution_count": 9,
   "metadata": {},
   "outputs": [
    {
     "data": {
      "text/html": [
       "<div>\n",
       "<style scoped>\n",
       "    .dataframe tbody tr th:only-of-type {\n",
       "        vertical-align: middle;\n",
       "    }\n",
       "\n",
       "    .dataframe tbody tr th {\n",
       "        vertical-align: top;\n",
       "    }\n",
       "\n",
       "    .dataframe thead th {\n",
       "        text-align: right;\n",
       "    }\n",
       "</style>\n",
       "<table border=\"1\" class=\"dataframe\">\n",
       "  <thead>\n",
       "    <tr style=\"text-align: right;\">\n",
       "      <th></th>\n",
       "      <th>movieId</th>\n",
       "      <th>title</th>\n",
       "      <th>genres</th>\n",
       "    </tr>\n",
       "  </thead>\n",
       "  <tbody>\n",
       "    <tr>\n",
       "      <th>0</th>\n",
       "      <td>1</td>\n",
       "      <td>Toy Story (1995)</td>\n",
       "      <td>Adventure|Animation|Children|Comedy|Fantasy</td>\n",
       "    </tr>\n",
       "    <tr>\n",
       "      <th>1</th>\n",
       "      <td>2</td>\n",
       "      <td>Jumanji (1995)</td>\n",
       "      <td>Adventure|Children|Fantasy</td>\n",
       "    </tr>\n",
       "    <tr>\n",
       "      <th>2</th>\n",
       "      <td>3</td>\n",
       "      <td>Grumpier Old Men (1995)</td>\n",
       "      <td>Comedy|Romance</td>\n",
       "    </tr>\n",
       "    <tr>\n",
       "      <th>3</th>\n",
       "      <td>4</td>\n",
       "      <td>Waiting to Exhale (1995)</td>\n",
       "      <td>Comedy|Drama|Romance</td>\n",
       "    </tr>\n",
       "    <tr>\n",
       "      <th>4</th>\n",
       "      <td>5</td>\n",
       "      <td>Father of the Bride Part II (1995)</td>\n",
       "      <td>Comedy</td>\n",
       "    </tr>\n",
       "  </tbody>\n",
       "</table>\n",
       "</div>"
      ],
      "text/plain": [
       "   movieId                               title  \\\n",
       "0        1                    Toy Story (1995)   \n",
       "1        2                      Jumanji (1995)   \n",
       "2        3             Grumpier Old Men (1995)   \n",
       "3        4            Waiting to Exhale (1995)   \n",
       "4        5  Father of the Bride Part II (1995)   \n",
       "\n",
       "                                        genres  \n",
       "0  Adventure|Animation|Children|Comedy|Fantasy  \n",
       "1                   Adventure|Children|Fantasy  \n",
       "2                               Comedy|Romance  \n",
       "3                         Comedy|Drama|Romance  \n",
       "4                                       Comedy  "
      ]
     },
     "execution_count": 9,
     "metadata": {},
     "output_type": "execute_result"
    }
   ],
   "source": [
    "movies_df.head()"
   ]
  },
  {
   "cell_type": "code",
   "execution_count": 10,
   "metadata": {},
   "outputs": [
    {
     "data": {
      "text/plain": [
       "(27753444, 4)"
      ]
     },
     "execution_count": 10,
     "metadata": {},
     "output_type": "execute_result"
    }
   ],
   "source": [
    "ratings_df.shape"
   ]
  },
  {
   "cell_type": "code",
   "execution_count": 11,
   "metadata": {},
   "outputs": [
    {
     "data": {
      "text/html": [
       "<div>\n",
       "<style scoped>\n",
       "    .dataframe tbody tr th:only-of-type {\n",
       "        vertical-align: middle;\n",
       "    }\n",
       "\n",
       "    .dataframe tbody tr th {\n",
       "        vertical-align: top;\n",
       "    }\n",
       "\n",
       "    .dataframe thead th {\n",
       "        text-align: right;\n",
       "    }\n",
       "</style>\n",
       "<table border=\"1\" class=\"dataframe\">\n",
       "  <thead>\n",
       "    <tr style=\"text-align: right;\">\n",
       "      <th></th>\n",
       "      <th>userId</th>\n",
       "      <th>movieId</th>\n",
       "      <th>rating</th>\n",
       "      <th>timestamp</th>\n",
       "    </tr>\n",
       "  </thead>\n",
       "  <tbody>\n",
       "    <tr>\n",
       "      <th>0</th>\n",
       "      <td>1</td>\n",
       "      <td>307</td>\n",
       "      <td>3.5</td>\n",
       "      <td>1256677221</td>\n",
       "    </tr>\n",
       "    <tr>\n",
       "      <th>1</th>\n",
       "      <td>1</td>\n",
       "      <td>481</td>\n",
       "      <td>3.5</td>\n",
       "      <td>1256677456</td>\n",
       "    </tr>\n",
       "    <tr>\n",
       "      <th>2</th>\n",
       "      <td>1</td>\n",
       "      <td>1091</td>\n",
       "      <td>1.5</td>\n",
       "      <td>1256677471</td>\n",
       "    </tr>\n",
       "    <tr>\n",
       "      <th>3</th>\n",
       "      <td>1</td>\n",
       "      <td>1257</td>\n",
       "      <td>4.5</td>\n",
       "      <td>1256677460</td>\n",
       "    </tr>\n",
       "    <tr>\n",
       "      <th>4</th>\n",
       "      <td>1</td>\n",
       "      <td>1449</td>\n",
       "      <td>4.5</td>\n",
       "      <td>1256677264</td>\n",
       "    </tr>\n",
       "  </tbody>\n",
       "</table>\n",
       "</div>"
      ],
      "text/plain": [
       "   userId  movieId  rating   timestamp\n",
       "0       1      307     3.5  1256677221\n",
       "1       1      481     3.5  1256677456\n",
       "2       1     1091     1.5  1256677471\n",
       "3       1     1257     4.5  1256677460\n",
       "4       1     1449     4.5  1256677264"
      ]
     },
     "execution_count": 11,
     "metadata": {},
     "output_type": "execute_result"
    }
   ],
   "source": [
    "ratings_df.head()"
   ]
  },
  {
   "cell_type": "markdown",
   "metadata": {},
   "source": [
    "Ayni zamanda puan araliklarini da merak ediyoruz. Puanlamalar 0.5 - 5 arasinda bir degerle tanimlanmistir."
   ]
  },
  {
   "cell_type": "code",
   "execution_count": 12,
   "metadata": {},
   "outputs": [
    {
     "name": "stdout",
     "output_type": "stream",
     "text": [
      "Oylama puan araliklari: 0.5 - 5.0 \n"
     ]
    }
   ],
   "source": [
    "print(f\"Oylama puan araliklari: {ratings_df.rating.min()} - {ratings_df.rating.max()} \") "
   ]
  },
  {
   "cell_type": "markdown",
   "metadata": {},
   "source": [
    " Iki df arasinda movieId bilgisinin ortak oldugunu goruyoruz. Bu alani kullanarak bu iki df'i birlestirerek tek dataframe elde edelim."
   ]
  },
  {
   "cell_type": "code",
   "execution_count": 13,
   "metadata": {},
   "outputs": [
    {
     "data": {
      "text/html": [
       "<div>\n",
       "<style scoped>\n",
       "    .dataframe tbody tr th:only-of-type {\n",
       "        vertical-align: middle;\n",
       "    }\n",
       "\n",
       "    .dataframe tbody tr th {\n",
       "        vertical-align: top;\n",
       "    }\n",
       "\n",
       "    .dataframe thead th {\n",
       "        text-align: right;\n",
       "    }\n",
       "</style>\n",
       "<table border=\"1\" class=\"dataframe\">\n",
       "  <thead>\n",
       "    <tr style=\"text-align: right;\">\n",
       "      <th></th>\n",
       "      <th>movieId</th>\n",
       "      <th>title</th>\n",
       "      <th>genres</th>\n",
       "      <th>userId</th>\n",
       "      <th>rating</th>\n",
       "      <th>timestamp</th>\n",
       "    </tr>\n",
       "  </thead>\n",
       "  <tbody>\n",
       "    <tr>\n",
       "      <th>0</th>\n",
       "      <td>1</td>\n",
       "      <td>Toy Story (1995)</td>\n",
       "      <td>Adventure|Animation|Children|Comedy|Fantasy</td>\n",
       "      <td>4</td>\n",
       "      <td>4.0</td>\n",
       "      <td>1113765937</td>\n",
       "    </tr>\n",
       "    <tr>\n",
       "      <th>1</th>\n",
       "      <td>1</td>\n",
       "      <td>Toy Story (1995)</td>\n",
       "      <td>Adventure|Animation|Children|Comedy|Fantasy</td>\n",
       "      <td>10</td>\n",
       "      <td>5.0</td>\n",
       "      <td>948885850</td>\n",
       "    </tr>\n",
       "    <tr>\n",
       "      <th>2</th>\n",
       "      <td>1</td>\n",
       "      <td>Toy Story (1995)</td>\n",
       "      <td>Adventure|Animation|Children|Comedy|Fantasy</td>\n",
       "      <td>14</td>\n",
       "      <td>4.5</td>\n",
       "      <td>1442169375</td>\n",
       "    </tr>\n",
       "    <tr>\n",
       "      <th>3</th>\n",
       "      <td>1</td>\n",
       "      <td>Toy Story (1995)</td>\n",
       "      <td>Adventure|Animation|Children|Comedy|Fantasy</td>\n",
       "      <td>15</td>\n",
       "      <td>4.0</td>\n",
       "      <td>1370810063</td>\n",
       "    </tr>\n",
       "    <tr>\n",
       "      <th>4</th>\n",
       "      <td>1</td>\n",
       "      <td>Toy Story (1995)</td>\n",
       "      <td>Adventure|Animation|Children|Comedy|Fantasy</td>\n",
       "      <td>22</td>\n",
       "      <td>4.0</td>\n",
       "      <td>1237622631</td>\n",
       "    </tr>\n",
       "  </tbody>\n",
       "</table>\n",
       "</div>"
      ],
      "text/plain": [
       "   movieId             title                                       genres  \\\n",
       "0        1  Toy Story (1995)  Adventure|Animation|Children|Comedy|Fantasy   \n",
       "1        1  Toy Story (1995)  Adventure|Animation|Children|Comedy|Fantasy   \n",
       "2        1  Toy Story (1995)  Adventure|Animation|Children|Comedy|Fantasy   \n",
       "3        1  Toy Story (1995)  Adventure|Animation|Children|Comedy|Fantasy   \n",
       "4        1  Toy Story (1995)  Adventure|Animation|Children|Comedy|Fantasy   \n",
       "\n",
       "   userId  rating   timestamp  \n",
       "0       4     4.0  1113765937  \n",
       "1      10     5.0   948885850  \n",
       "2      14     4.5  1442169375  \n",
       "3      15     4.0  1370810063  \n",
       "4      22     4.0  1237622631  "
      ]
     },
     "execution_count": 13,
     "metadata": {},
     "output_type": "execute_result"
    }
   ],
   "source": [
    "movies = movies_df.merge(ratings_df, on='movieId', how='inner')\n",
    "movies.head()"
   ]
  },
  {
   "cell_type": "markdown",
   "metadata": {},
   "source": [
    "`Sci-Fi` kategorisi disindaki kayitlari kullanmayacagiz."
   ]
  },
  {
   "cell_type": "code",
   "execution_count": 15,
   "metadata": {},
   "outputs": [
    {
     "name": "stdout",
     "output_type": "stream",
     "text": [
      "Maskeleme oncesi yapi: (27753444, 6)\n",
      "Maskeleme sonrasi yapi: (4740208, 6)\n"
     ]
    }
   ],
   "source": [
    "print(f\"Maskeleme oncesi yapi: {movies.shape}\")\n",
    "scifi_mask = movies['genres'].str.contains('Sci-Fi')\n",
    "movies = movies[scifi_mask]\n",
    "print(f\"Maskeleme sonrasi yapi: {movies.shape}\")"
   ]
  },
  {
   "cell_type": "markdown",
   "metadata": {},
   "source": [
    "# Sutun Cikarma ve Ekleme\n",
    "DF icindeki bazi alnlara ihtiyacimiz olmayacak, bazi bilgileri daha rahat kullanabilmek icin ise ek alanlar seklinde yeniden duzenlememiz gerekecek."
   ]
  },
  {
   "cell_type": "code",
   "execution_count": 16,
   "metadata": {},
   "outputs": [],
   "source": [
    "# Oncelikle filmerin yil bilgisini isminden bularak ek bir sutun haline getirelim\n",
    "movies['movie_year'] = movies['title'].str.extract('.*\\((.*)\\).*', expand=True)\n",
    "movies['movie_year'] = pd.to_numeric(movies['movie_year'], errors = 'coerce')"
   ]
  },
  {
   "cell_type": "code",
   "execution_count": 17,
   "metadata": {},
   "outputs": [
    {
     "data": {
      "text/html": [
       "<div>\n",
       "<style scoped>\n",
       "    .dataframe tbody tr th:only-of-type {\n",
       "        vertical-align: middle;\n",
       "    }\n",
       "\n",
       "    .dataframe tbody tr th {\n",
       "        vertical-align: top;\n",
       "    }\n",
       "\n",
       "    .dataframe thead th {\n",
       "        text-align: right;\n",
       "    }\n",
       "</style>\n",
       "<table border=\"1\" class=\"dataframe\">\n",
       "  <thead>\n",
       "    <tr style=\"text-align: right;\">\n",
       "      <th></th>\n",
       "      <th>movieId</th>\n",
       "      <th>title</th>\n",
       "      <th>genres</th>\n",
       "      <th>userId</th>\n",
       "      <th>rating</th>\n",
       "      <th>timestamp</th>\n",
       "      <th>movie_year</th>\n",
       "    </tr>\n",
       "  </thead>\n",
       "  <tbody>\n",
       "    <tr>\n",
       "      <th>27753398</th>\n",
       "      <td>193803</td>\n",
       "      <td>Bleach: Memories of Nobody (2006)</td>\n",
       "      <td>Animation|Fantasy|Sci-Fi</td>\n",
       "      <td>215971</td>\n",
       "      <td>1.5</td>\n",
       "      <td>1537637705</td>\n",
       "      <td>2006.0</td>\n",
       "    </tr>\n",
       "    <tr>\n",
       "      <th>27753399</th>\n",
       "      <td>193803</td>\n",
       "      <td>Bleach: Memories of Nobody (2006)</td>\n",
       "      <td>Animation|Fantasy|Sci-Fi</td>\n",
       "      <td>266075</td>\n",
       "      <td>5.0</td>\n",
       "      <td>1537659897</td>\n",
       "      <td>2006.0</td>\n",
       "    </tr>\n",
       "    <tr>\n",
       "      <th>27753417</th>\n",
       "      <td>193837</td>\n",
       "      <td>Lily C.A.T. (1987)</td>\n",
       "      <td>Animation|Horror|Sci-Fi</td>\n",
       "      <td>81924</td>\n",
       "      <td>2.0</td>\n",
       "      <td>1537919872</td>\n",
       "      <td>1987.0</td>\n",
       "    </tr>\n",
       "    <tr>\n",
       "      <th>27753429</th>\n",
       "      <td>193861</td>\n",
       "      <td>Cold Harvest (1998)</td>\n",
       "      <td>Action|Sci-Fi|Thriller</td>\n",
       "      <td>1686</td>\n",
       "      <td>3.0</td>\n",
       "      <td>1537816652</td>\n",
       "      <td>1998.0</td>\n",
       "    </tr>\n",
       "    <tr>\n",
       "      <th>27753441</th>\n",
       "      <td>193882</td>\n",
       "      <td>Flora (2017)</td>\n",
       "      <td>Adventure|Drama|Horror|Sci-Fi</td>\n",
       "      <td>33330</td>\n",
       "      <td>2.0</td>\n",
       "      <td>1537890512</td>\n",
       "      <td>2017.0</td>\n",
       "    </tr>\n",
       "  </tbody>\n",
       "</table>\n",
       "</div>"
      ],
      "text/plain": [
       "          movieId                              title  \\\n",
       "27753398   193803  Bleach: Memories of Nobody (2006)   \n",
       "27753399   193803  Bleach: Memories of Nobody (2006)   \n",
       "27753417   193837                 Lily C.A.T. (1987)   \n",
       "27753429   193861                Cold Harvest (1998)   \n",
       "27753441   193882                       Flora (2017)   \n",
       "\n",
       "                                 genres  userId  rating   timestamp  \\\n",
       "27753398       Animation|Fantasy|Sci-Fi  215971     1.5  1537637705   \n",
       "27753399       Animation|Fantasy|Sci-Fi  266075     5.0  1537659897   \n",
       "27753417        Animation|Horror|Sci-Fi   81924     2.0  1537919872   \n",
       "27753429         Action|Sci-Fi|Thriller    1686     3.0  1537816652   \n",
       "27753441  Adventure|Drama|Horror|Sci-Fi   33330     2.0  1537890512   \n",
       "\n",
       "          movie_year  \n",
       "27753398      2006.0  \n",
       "27753399      2006.0  \n",
       "27753417      1987.0  \n",
       "27753429      1998.0  \n",
       "27753441      2017.0  "
      ]
     },
     "execution_count": 17,
     "metadata": {},
     "output_type": "execute_result"
    }
   ],
   "source": [
    "movies.tail()"
   ]
  },
  {
   "cell_type": "markdown",
   "metadata": {},
   "source": [
    "Simdi timestamp bilgisinden puanlamanin yapildigi yili bulalim ve sonrasinda timestamp ve diger kullanilmayan sutunlarini sileim."
   ]
  },
  {
   "cell_type": "code",
   "execution_count": 18,
   "metadata": {},
   "outputs": [
    {
     "data": {
      "text/html": [
       "<div>\n",
       "<style scoped>\n",
       "    .dataframe tbody tr th:only-of-type {\n",
       "        vertical-align: middle;\n",
       "    }\n",
       "\n",
       "    .dataframe tbody tr th {\n",
       "        vertical-align: top;\n",
       "    }\n",
       "\n",
       "    .dataframe thead th {\n",
       "        text-align: right;\n",
       "    }\n",
       "</style>\n",
       "<table border=\"1\" class=\"dataframe\">\n",
       "  <thead>\n",
       "    <tr style=\"text-align: right;\">\n",
       "      <th></th>\n",
       "      <th>title</th>\n",
       "      <th>rating</th>\n",
       "      <th>movie_year</th>\n",
       "      <th>rating_year</th>\n",
       "    </tr>\n",
       "  </thead>\n",
       "  <tbody>\n",
       "    <tr>\n",
       "      <th>372104</th>\n",
       "      <td>Powder (1995)</td>\n",
       "      <td>4.0</td>\n",
       "      <td>1995.0</td>\n",
       "      <td>1999</td>\n",
       "    </tr>\n",
       "    <tr>\n",
       "      <th>372105</th>\n",
       "      <td>Powder (1995)</td>\n",
       "      <td>3.0</td>\n",
       "      <td>1995.0</td>\n",
       "      <td>1996</td>\n",
       "    </tr>\n",
       "    <tr>\n",
       "      <th>372106</th>\n",
       "      <td>Powder (1995)</td>\n",
       "      <td>3.5</td>\n",
       "      <td>1995.0</td>\n",
       "      <td>2011</td>\n",
       "    </tr>\n",
       "    <tr>\n",
       "      <th>372107</th>\n",
       "      <td>Powder (1995)</td>\n",
       "      <td>1.0</td>\n",
       "      <td>1995.0</td>\n",
       "      <td>2014</td>\n",
       "    </tr>\n",
       "    <tr>\n",
       "      <th>372108</th>\n",
       "      <td>Powder (1995)</td>\n",
       "      <td>3.0</td>\n",
       "      <td>1995.0</td>\n",
       "      <td>2012</td>\n",
       "    </tr>\n",
       "  </tbody>\n",
       "</table>\n",
       "</div>"
      ],
      "text/plain": [
       "                title  rating  movie_year  rating_year\n",
       "372104  Powder (1995)     4.0      1995.0         1999\n",
       "372105  Powder (1995)     3.0      1995.0         1996\n",
       "372106  Powder (1995)     3.5      1995.0         2011\n",
       "372107  Powder (1995)     1.0      1995.0         2014\n",
       "372108  Powder (1995)     3.0      1995.0         2012"
      ]
     },
     "execution_count": 18,
     "metadata": {},
     "output_type": "execute_result"
    }
   ],
   "source": [
    "movies['rating_date'] = pd.to_datetime(movies['timestamp'], unit='s')\n",
    "movies['rating_year'] = movies['rating_date'].dt.year\n",
    "\n",
    "# Ihtiyacimiz olmayan verileri silerek dataframe temizligi yapalim\n",
    "del movies['movieId']\n",
    "del movies['genres']\n",
    "del movies['userId']\n",
    "del movies['rating_date']\n",
    "del movies['timestamp']\n",
    "\n",
    "movies.head()"
   ]
  },
  {
   "cell_type": "markdown",
   "metadata": {},
   "source": [
    "Verinin temizliginden emin olmak icin **null** kontrolu yapalim."
   ]
  },
  {
   "cell_type": "code",
   "execution_count": 19,
   "metadata": {},
   "outputs": [
    {
     "data": {
      "text/plain": [
       "title          False\n",
       "rating         False\n",
       "movie_year      True\n",
       "rating_year    False\n",
       "dtype: bool"
      ]
     },
     "execution_count": 19,
     "metadata": {},
     "output_type": "execute_result"
    }
   ],
   "source": [
    "movies.isnull().any()"
   ]
  },
  {
   "cell_type": "markdown",
   "metadata": {},
   "source": [
    "Veri setinde bazi filmlerin basliginda yil bilgisi gecmemis, sayisi az ise df icinden silebiliriz."
   ]
  },
  {
   "cell_type": "code",
   "execution_count": 20,
   "metadata": {},
   "outputs": [
    {
     "data": {
      "text/html": [
       "<div>\n",
       "<style scoped>\n",
       "    .dataframe tbody tr th:only-of-type {\n",
       "        vertical-align: middle;\n",
       "    }\n",
       "\n",
       "    .dataframe tbody tr th {\n",
       "        vertical-align: top;\n",
       "    }\n",
       "\n",
       "    .dataframe thead th {\n",
       "        text-align: right;\n",
       "    }\n",
       "</style>\n",
       "<table border=\"1\" class=\"dataframe\">\n",
       "  <thead>\n",
       "    <tr style=\"text-align: right;\">\n",
       "      <th></th>\n",
       "      <th>title</th>\n",
       "      <th>rating</th>\n",
       "      <th>movie_year</th>\n",
       "      <th>rating_year</th>\n",
       "    </tr>\n",
       "  </thead>\n",
       "  <tbody>\n",
       "    <tr>\n",
       "      <th>22674664</th>\n",
       "      <td>Babylon 5</td>\n",
       "      <td>4.0</td>\n",
       "      <td>NaN</td>\n",
       "      <td>2015</td>\n",
       "    </tr>\n",
       "    <tr>\n",
       "      <th>22674665</th>\n",
       "      <td>Babylon 5</td>\n",
       "      <td>5.0</td>\n",
       "      <td>NaN</td>\n",
       "      <td>2017</td>\n",
       "    </tr>\n",
       "    <tr>\n",
       "      <th>22674666</th>\n",
       "      <td>Babylon 5</td>\n",
       "      <td>5.0</td>\n",
       "      <td>NaN</td>\n",
       "      <td>2018</td>\n",
       "    </tr>\n",
       "    <tr>\n",
       "      <th>22674667</th>\n",
       "      <td>Babylon 5</td>\n",
       "      <td>5.0</td>\n",
       "      <td>NaN</td>\n",
       "      <td>2016</td>\n",
       "    </tr>\n",
       "    <tr>\n",
       "      <th>22674668</th>\n",
       "      <td>Babylon 5</td>\n",
       "      <td>4.5</td>\n",
       "      <td>NaN</td>\n",
       "      <td>2015</td>\n",
       "    </tr>\n",
       "    <tr>\n",
       "      <th>...</th>\n",
       "      <td>...</td>\n",
       "      <td>...</td>\n",
       "      <td>...</td>\n",
       "      <td>...</td>\n",
       "    </tr>\n",
       "    <tr>\n",
       "      <th>27749906</th>\n",
       "      <td>The Death of Superman</td>\n",
       "      <td>4.5</td>\n",
       "      <td>NaN</td>\n",
       "      <td>2018</td>\n",
       "    </tr>\n",
       "    <tr>\n",
       "      <th>27749907</th>\n",
       "      <td>The Death of Superman</td>\n",
       "      <td>4.0</td>\n",
       "      <td>NaN</td>\n",
       "      <td>2018</td>\n",
       "    </tr>\n",
       "    <tr>\n",
       "      <th>27749908</th>\n",
       "      <td>The Death of Superman</td>\n",
       "      <td>1.0</td>\n",
       "      <td>NaN</td>\n",
       "      <td>2018</td>\n",
       "    </tr>\n",
       "    <tr>\n",
       "      <th>27749909</th>\n",
       "      <td>The Death of Superman</td>\n",
       "      <td>4.0</td>\n",
       "      <td>NaN</td>\n",
       "      <td>2018</td>\n",
       "    </tr>\n",
       "    <tr>\n",
       "      <th>27749910</th>\n",
       "      <td>The Death of Superman</td>\n",
       "      <td>3.5</td>\n",
       "      <td>NaN</td>\n",
       "      <td>2018</td>\n",
       "    </tr>\n",
       "  </tbody>\n",
       "</table>\n",
       "<p>1432 rows × 4 columns</p>\n",
       "</div>"
      ],
      "text/plain": [
       "                          title  rating  movie_year  rating_year\n",
       "22674664              Babylon 5     4.0         NaN         2015\n",
       "22674665              Babylon 5     5.0         NaN         2017\n",
       "22674666              Babylon 5     5.0         NaN         2018\n",
       "22674667              Babylon 5     5.0         NaN         2016\n",
       "22674668              Babylon 5     4.5         NaN         2015\n",
       "...                         ...     ...         ...          ...\n",
       "27749906  The Death of Superman     4.5         NaN         2018\n",
       "27749907  The Death of Superman     4.0         NaN         2018\n",
       "27749908  The Death of Superman     1.0         NaN         2018\n",
       "27749909  The Death of Superman     4.0         NaN         2018\n",
       "27749910  The Death of Superman     3.5         NaN         2018\n",
       "\n",
       "[1432 rows x 4 columns]"
      ]
     },
     "execution_count": 20,
     "metadata": {},
     "output_type": "execute_result"
    }
   ],
   "source": [
    "movies[movies.movie_year.isnull()]"
   ]
  },
  {
   "cell_type": "markdown",
   "metadata": {},
   "source": [
    "Film adinin yaninda yil bilgisi olmayan kayitlar var, bunlar azinlikta oldugu icin dataframe'den cikaralim. Daha once yapilan CPU yogun islemleri tekrar yapmamak icin bundan sonraki islemlerde `movies_cleaned` degiskeni ile devam ediyoruz."
   ]
  },
  {
   "cell_type": "code",
   "execution_count": 21,
   "metadata": {},
   "outputs": [],
   "source": [
    "movies_cleaned = movies.copy()\n",
    "movies_cleaned = movies_cleaned.dropna()"
   ]
  },
  {
   "cell_type": "code",
   "execution_count": 22,
   "metadata": {},
   "outputs": [
    {
     "data": {
      "text/plain": [
       "title          0\n",
       "rating         0\n",
       "movie_year     0\n",
       "rating_year    0\n",
       "dtype: int64"
      ]
     },
     "execution_count": 22,
     "metadata": {},
     "output_type": "execute_result"
    }
   ],
   "source": [
    "movies_cleaned.isnull().sum()"
   ]
  },
  {
   "cell_type": "markdown",
   "metadata": {},
   "source": [
    "Veriler temizlenmis gozukuyor. Simdi filmin cikis yilinda yapilan yorumlari isaretleyelim. Ve analizde kullanacagimiz oylamanin kac yil sonra yapildigi bilgisini tutalim."
   ]
  },
  {
   "cell_type": "code",
   "execution_count": 23,
   "metadata": {},
   "outputs": [
    {
     "data": {
      "text/plain": [
       "(4738776, 6)"
      ]
     },
     "execution_count": 23,
     "metadata": {},
     "output_type": "execute_result"
    }
   ],
   "source": [
    "movies_cleaned['rated_same_year'] = (movies_cleaned['movie_year'] == movies_cleaned['rating_year'])\n",
    "movies_cleaned['rate_delay'] = (movies_cleaned['rating_year'] - movies_cleaned['movie_year'])\n",
    "movies_cleaned.shape"
   ]
  },
  {
   "cell_type": "markdown",
   "metadata": {},
   "source": [
    "Data kirliliginden kaynaklanan ve oylamanin film tarihinden once gozuken kisimlari var ise, dataset icinden silelim:"
   ]
  },
  {
   "cell_type": "code",
   "execution_count": 24,
   "metadata": {},
   "outputs": [
    {
     "data": {
      "text/plain": [
       "(4738344, 6)"
      ]
     },
     "execution_count": 24,
     "metadata": {},
     "output_type": "execute_result"
    }
   ],
   "source": [
    "fltr = movies_cleaned.rate_delay >= 0\n",
    "movies_cleaned = movies_cleaned[fltr]\n",
    "movies_cleaned.shape"
   ]
  },
  {
   "cell_type": "markdown",
   "metadata": {},
   "source": [
    "Az oy almis eski filmler olabilir. Film bazinda gruplayarak belirli bir limitin altinda oy verilmis filmleri bizi sasirtmamasi icin analizde kullanmak istemiyoruz."
   ]
  },
  {
   "cell_type": "code",
   "execution_count": 25,
   "metadata": {},
   "outputs": [],
   "source": [
    "ratings_by_movie = movies_cleaned[['rating', 'title']].groupby('title', as_index = False).count()"
   ]
  },
  {
   "cell_type": "code",
   "execution_count": 26,
   "metadata": {},
   "outputs": [
    {
     "data": {
      "text/html": [
       "<div>\n",
       "<style scoped>\n",
       "    .dataframe tbody tr th:only-of-type {\n",
       "        vertical-align: middle;\n",
       "    }\n",
       "\n",
       "    .dataframe tbody tr th {\n",
       "        vertical-align: top;\n",
       "    }\n",
       "\n",
       "    .dataframe thead th {\n",
       "        text-align: right;\n",
       "    }\n",
       "</style>\n",
       "<table border=\"1\" class=\"dataframe\">\n",
       "  <thead>\n",
       "    <tr style=\"text-align: right;\">\n",
       "      <th></th>\n",
       "      <th>title</th>\n",
       "      <th>rating</th>\n",
       "    </tr>\n",
       "  </thead>\n",
       "  <tbody>\n",
       "    <tr>\n",
       "      <th>0</th>\n",
       "      <td>*batteries not included (1987)</td>\n",
       "      <td>2007</td>\n",
       "    </tr>\n",
       "    <tr>\n",
       "      <th>1</th>\n",
       "      <td>+1 (2013)</td>\n",
       "      <td>59</td>\n",
       "    </tr>\n",
       "    <tr>\n",
       "      <th>2</th>\n",
       "      <td>.hack//Beyond the World (2012)</td>\n",
       "      <td>2</td>\n",
       "    </tr>\n",
       "    <tr>\n",
       "      <th>3</th>\n",
       "      <td>009 Re: Cyborg (2012)</td>\n",
       "      <td>10</td>\n",
       "    </tr>\n",
       "    <tr>\n",
       "      <th>4</th>\n",
       "      <td>009-1: The End of the Beginning (2013)</td>\n",
       "      <td>1</td>\n",
       "    </tr>\n",
       "  </tbody>\n",
       "</table>\n",
       "</div>"
      ],
      "text/plain": [
       "                                    title  rating\n",
       "0          *batteries not included (1987)    2007\n",
       "1                               +1 (2013)      59\n",
       "2          .hack//Beyond the World (2012)       2\n",
       "3                   009 Re: Cyborg (2012)      10\n",
       "4  009-1: The End of the Beginning (2013)       1"
      ]
     },
     "execution_count": 26,
     "metadata": {},
     "output_type": "execute_result"
    }
   ],
   "source": [
    "ratings_by_movie.head()"
   ]
  },
  {
   "cell_type": "code",
   "execution_count": 27,
   "metadata": {},
   "outputs": [
    {
     "data": {
      "text/html": [
       "<div>\n",
       "<style scoped>\n",
       "    .dataframe tbody tr th:only-of-type {\n",
       "        vertical-align: middle;\n",
       "    }\n",
       "\n",
       "    .dataframe tbody tr th {\n",
       "        vertical-align: top;\n",
       "    }\n",
       "\n",
       "    .dataframe thead th {\n",
       "        text-align: right;\n",
       "    }\n",
       "</style>\n",
       "<table border=\"1\" class=\"dataframe\">\n",
       "  <thead>\n",
       "    <tr style=\"text-align: right;\">\n",
       "      <th></th>\n",
       "      <th>title</th>\n",
       "      <th>ratings_count</th>\n",
       "    </tr>\n",
       "  </thead>\n",
       "  <tbody>\n",
       "    <tr>\n",
       "      <th>0</th>\n",
       "      <td>*batteries not included (1987)</td>\n",
       "      <td>2007</td>\n",
       "    </tr>\n",
       "    <tr>\n",
       "      <th>1</th>\n",
       "      <td>+1 (2013)</td>\n",
       "      <td>59</td>\n",
       "    </tr>\n",
       "    <tr>\n",
       "      <th>2</th>\n",
       "      <td>.hack//Beyond the World (2012)</td>\n",
       "      <td>2</td>\n",
       "    </tr>\n",
       "    <tr>\n",
       "      <th>3</th>\n",
       "      <td>009 Re: Cyborg (2012)</td>\n",
       "      <td>10</td>\n",
       "    </tr>\n",
       "    <tr>\n",
       "      <th>4</th>\n",
       "      <td>009-1: The End of the Beginning (2013)</td>\n",
       "      <td>1</td>\n",
       "    </tr>\n",
       "  </tbody>\n",
       "</table>\n",
       "</div>"
      ],
      "text/plain": [
       "                                    title  ratings_count\n",
       "0          *batteries not included (1987)           2007\n",
       "1                               +1 (2013)             59\n",
       "2          .hack//Beyond the World (2012)              2\n",
       "3                   009 Re: Cyborg (2012)             10\n",
       "4  009-1: The End of the Beginning (2013)              1"
      ]
     },
     "execution_count": 27,
     "metadata": {},
     "output_type": "execute_result"
    }
   ],
   "source": [
    "# daha sonra ana tablo ile merge yapilacagi icin `rating`'ten daha farkli sutun atayalim\n",
    "ratings_by_movie.columns = ['title', 'ratings_count']\n",
    "ratings_by_movie.head()"
   ]
  },
  {
   "cell_type": "markdown",
   "metadata": {},
   "source": [
    "Esas tablomuza her film icin toplam oy sayisin sutun olarak ekleyelelim. Bunun icin bu iki tabloyu join etmemiz gerekiyor."
   ]
  },
  {
   "cell_type": "code",
   "execution_count": 28,
   "metadata": {},
   "outputs": [
    {
     "data": {
      "text/plain": [
       "(4738344, 7)"
      ]
     },
     "execution_count": 28,
     "metadata": {},
     "output_type": "execute_result"
    }
   ],
   "source": [
    "movies_with_ratings_count = movies_cleaned.merge(ratings_by_movie, on='title', how='inner')\n",
    "movies_with_ratings_count.shape\n"
   ]
  },
  {
   "cell_type": "markdown",
   "metadata": {},
   "source": [
    "Belirli bir adedin altinda oy almis kayitlari eleyelim."
   ]
  },
  {
   "cell_type": "code",
   "execution_count": 29,
   "metadata": {},
   "outputs": [
    {
     "data": {
      "text/plain": [
       "(4533370, 7)"
      ]
     },
     "execution_count": 29,
     "metadata": {},
     "output_type": "execute_result"
    }
   ],
   "source": [
    "fltr = movies_with_ratings_count.ratings_count > MIN_VOTE_THRESHOLD\n",
    "movies_with_ratings_count = movies_with_ratings_count[fltr]\n",
    "movies_with_ratings_count.shape"
   ]
  },
  {
   "cell_type": "code",
   "execution_count": 30,
   "metadata": {},
   "outputs": [
    {
     "data": {
      "text/html": [
       "<div>\n",
       "<style scoped>\n",
       "    .dataframe tbody tr th:only-of-type {\n",
       "        vertical-align: middle;\n",
       "    }\n",
       "\n",
       "    .dataframe tbody tr th {\n",
       "        vertical-align: top;\n",
       "    }\n",
       "\n",
       "    .dataframe thead th {\n",
       "        text-align: right;\n",
       "    }\n",
       "</style>\n",
       "<table border=\"1\" class=\"dataframe\">\n",
       "  <thead>\n",
       "    <tr style=\"text-align: right;\">\n",
       "      <th></th>\n",
       "      <th>title</th>\n",
       "      <th>rating</th>\n",
       "      <th>movie_year</th>\n",
       "      <th>rating_year</th>\n",
       "      <th>rated_same_year</th>\n",
       "      <th>rate_delay</th>\n",
       "      <th>ratings_count</th>\n",
       "    </tr>\n",
       "  </thead>\n",
       "  <tbody>\n",
       "    <tr>\n",
       "      <th>4736234</th>\n",
       "      <td>Deadpool 2 (2018)</td>\n",
       "      <td>2.5</td>\n",
       "      <td>2018.0</td>\n",
       "      <td>2018</td>\n",
       "      <td>True</td>\n",
       "      <td>0.0</td>\n",
       "      <td>1633</td>\n",
       "    </tr>\n",
       "    <tr>\n",
       "      <th>4736235</th>\n",
       "      <td>Deadpool 2 (2018)</td>\n",
       "      <td>4.0</td>\n",
       "      <td>2018.0</td>\n",
       "      <td>2018</td>\n",
       "      <td>True</td>\n",
       "      <td>0.0</td>\n",
       "      <td>1633</td>\n",
       "    </tr>\n",
       "    <tr>\n",
       "      <th>4736236</th>\n",
       "      <td>Deadpool 2 (2018)</td>\n",
       "      <td>4.5</td>\n",
       "      <td>2018.0</td>\n",
       "      <td>2018</td>\n",
       "      <td>True</td>\n",
       "      <td>0.0</td>\n",
       "      <td>1633</td>\n",
       "    </tr>\n",
       "    <tr>\n",
       "      <th>4736237</th>\n",
       "      <td>Deadpool 2 (2018)</td>\n",
       "      <td>3.5</td>\n",
       "      <td>2018.0</td>\n",
       "      <td>2018</td>\n",
       "      <td>True</td>\n",
       "      <td>0.0</td>\n",
       "      <td>1633</td>\n",
       "    </tr>\n",
       "    <tr>\n",
       "      <th>4736238</th>\n",
       "      <td>Deadpool 2 (2018)</td>\n",
       "      <td>3.5</td>\n",
       "      <td>2018.0</td>\n",
       "      <td>2018</td>\n",
       "      <td>True</td>\n",
       "      <td>0.0</td>\n",
       "      <td>1633</td>\n",
       "    </tr>\n",
       "  </tbody>\n",
       "</table>\n",
       "</div>"
      ],
      "text/plain": [
       "                     title  rating  movie_year  rating_year  rated_same_year  \\\n",
       "4736234  Deadpool 2 (2018)     2.5      2018.0         2018             True   \n",
       "4736235  Deadpool 2 (2018)     4.0      2018.0         2018             True   \n",
       "4736236  Deadpool 2 (2018)     4.5      2018.0         2018             True   \n",
       "4736237  Deadpool 2 (2018)     3.5      2018.0         2018             True   \n",
       "4736238  Deadpool 2 (2018)     3.5      2018.0         2018             True   \n",
       "\n",
       "         rate_delay  ratings_count  \n",
       "4736234         0.0           1633  \n",
       "4736235         0.0           1633  \n",
       "4736236         0.0           1633  \n",
       "4736237         0.0           1633  \n",
       "4736238         0.0           1633  "
      ]
     },
     "execution_count": 30,
     "metadata": {},
     "output_type": "execute_result"
    }
   ],
   "source": [
    "movies_with_ratings_count.tail()"
   ]
  },
  {
   "cell_type": "markdown",
   "metadata": {},
   "source": [
    "Artik `ratings_count` sutununa ihtiyacimiz yok, silelim ve geri donusu kolay olmasi icin yeni degisken ile devam edelim."
   ]
  },
  {
   "cell_type": "code",
   "execution_count": 31,
   "metadata": {},
   "outputs": [],
   "source": [
    "del movies_with_ratings_count['ratings_count']\n",
    "ratings_by_movie = movies_with_ratings_count"
   ]
  },
  {
   "cell_type": "code",
   "execution_count": 32,
   "metadata": {},
   "outputs": [
    {
     "data": {
      "text/plain": [
       "(4533370, 6)"
      ]
     },
     "execution_count": 32,
     "metadata": {},
     "output_type": "execute_result"
    }
   ],
   "source": [
    "ratings_by_movie.shape"
   ]
  },
  {
   "cell_type": "markdown",
   "metadata": {},
   "source": [
    "## Verilerin Ayrilmasi \n",
    "Son olarak datayi iki ana dataframe'e ayiralim. Birisi film ile ayni yil icinde yapilan oylamalar, digeri ise filin cikis yilindan sonra yapilan oylamalar."
   ]
  },
  {
   "cell_type": "code",
   "execution_count": 33,
   "metadata": {},
   "outputs": [],
   "source": [
    "same_year_ratings = ratings_by_movie[ratings_by_movie.rated_same_year == True]\n",
    "late_ratings = ratings_by_movie[ratings_by_movie.rated_same_year == False]"
   ]
  },
  {
   "cell_type": "code",
   "execution_count": 34,
   "metadata": {},
   "outputs": [
    {
     "data": {
      "text/plain": [
       "(206664, 6)"
      ]
     },
     "execution_count": 34,
     "metadata": {},
     "output_type": "execute_result"
    }
   ],
   "source": [
    "same_year_ratings.shape"
   ]
  },
  {
   "cell_type": "code",
   "execution_count": 35,
   "metadata": {},
   "outputs": [
    {
     "data": {
      "text/plain": [
       "(4326706, 6)"
      ]
     },
     "execution_count": 35,
     "metadata": {},
     "output_type": "execute_result"
    }
   ],
   "source": [
    "late_ratings.shape"
   ]
  },
  {
   "cell_type": "markdown",
   "metadata": {},
   "source": [
    "Korelasyon tablosunu daha temiz gorebilmek icin ihtiyac olmayan son sutunu da siliyoruz."
   ]
  },
  {
   "cell_type": "code",
   "execution_count": 36,
   "metadata": {},
   "outputs": [],
   "source": [
    "del(same_year_ratings['rated_same_year'])\n",
    "del(late_ratings['rated_same_year'])"
   ]
  },
  {
   "cell_type": "markdown",
   "metadata": {},
   "source": [
    "# Bulgu 1\n",
    "Oncelikle ayni yil icinde yapilan puanlamalarla daha sonraki yillarda yapilan puanlama arasinda major farklarin olup olmadigina bakalim. Korelasyon bilgilerine bakilinca:\n",
    "1. **Ayni yil** icinde yapilan puanlamalarin dogal olarak hicbir sekilde filmin cikis yilindan **etkilenmiyor** oldugu\n",
    "2. Daha **sonraki yillarda** filmlere verilen puanlamanin zaman ilerledikce filmin cikis yilina **ters yonde**etkilenirken, filmin uzerinden gecen yil sayisindan **etkilenmedigi**  gorulmustur"
   ]
  },
  {
   "cell_type": "code",
   "execution_count": 37,
   "metadata": {},
   "outputs": [
    {
     "data": {
      "text/html": [
       "<div>\n",
       "<style scoped>\n",
       "    .dataframe tbody tr th:only-of-type {\n",
       "        vertical-align: middle;\n",
       "    }\n",
       "\n",
       "    .dataframe tbody tr th {\n",
       "        vertical-align: top;\n",
       "    }\n",
       "\n",
       "    .dataframe thead th {\n",
       "        text-align: right;\n",
       "    }\n",
       "</style>\n",
       "<table border=\"1\" class=\"dataframe\">\n",
       "  <thead>\n",
       "    <tr style=\"text-align: right;\">\n",
       "      <th></th>\n",
       "      <th>rating</th>\n",
       "      <th>movie_year</th>\n",
       "      <th>rating_year</th>\n",
       "      <th>rate_delay</th>\n",
       "    </tr>\n",
       "  </thead>\n",
       "  <tbody>\n",
       "    <tr>\n",
       "      <th>rating</th>\n",
       "      <td>1.000000</td>\n",
       "      <td>0.098208</td>\n",
       "      <td>0.098208</td>\n",
       "      <td>NaN</td>\n",
       "    </tr>\n",
       "    <tr>\n",
       "      <th>movie_year</th>\n",
       "      <td>0.098208</td>\n",
       "      <td>1.000000</td>\n",
       "      <td>1.000000</td>\n",
       "      <td>NaN</td>\n",
       "    </tr>\n",
       "    <tr>\n",
       "      <th>rating_year</th>\n",
       "      <td>0.098208</td>\n",
       "      <td>1.000000</td>\n",
       "      <td>1.000000</td>\n",
       "      <td>NaN</td>\n",
       "    </tr>\n",
       "    <tr>\n",
       "      <th>rate_delay</th>\n",
       "      <td>NaN</td>\n",
       "      <td>NaN</td>\n",
       "      <td>NaN</td>\n",
       "      <td>NaN</td>\n",
       "    </tr>\n",
       "  </tbody>\n",
       "</table>\n",
       "</div>"
      ],
      "text/plain": [
       "               rating  movie_year  rating_year  rate_delay\n",
       "rating       1.000000    0.098208     0.098208         NaN\n",
       "movie_year   0.098208    1.000000     1.000000         NaN\n",
       "rating_year  0.098208    1.000000     1.000000         NaN\n",
       "rate_delay        NaN         NaN          NaN         NaN"
      ]
     },
     "execution_count": 37,
     "metadata": {},
     "output_type": "execute_result"
    }
   ],
   "source": [
    "same_year_ratings.corr()"
   ]
  },
  {
   "cell_type": "code",
   "execution_count": 38,
   "metadata": {},
   "outputs": [
    {
     "data": {
      "text/html": [
       "<div>\n",
       "<style scoped>\n",
       "    .dataframe tbody tr th:only-of-type {\n",
       "        vertical-align: middle;\n",
       "    }\n",
       "\n",
       "    .dataframe tbody tr th {\n",
       "        vertical-align: top;\n",
       "    }\n",
       "\n",
       "    .dataframe thead th {\n",
       "        text-align: right;\n",
       "    }\n",
       "</style>\n",
       "<table border=\"1\" class=\"dataframe\">\n",
       "  <thead>\n",
       "    <tr style=\"text-align: right;\">\n",
       "      <th></th>\n",
       "      <th>rating</th>\n",
       "      <th>movie_year</th>\n",
       "      <th>rating_year</th>\n",
       "      <th>rate_delay</th>\n",
       "    </tr>\n",
       "  </thead>\n",
       "  <tbody>\n",
       "    <tr>\n",
       "      <th>rating</th>\n",
       "      <td>1.000000</td>\n",
       "      <td>-0.050029</td>\n",
       "      <td>0.057763</td>\n",
       "      <td>0.089808</td>\n",
       "    </tr>\n",
       "    <tr>\n",
       "      <th>movie_year</th>\n",
       "      <td>-0.050029</td>\n",
       "      <td>1.000000</td>\n",
       "      <td>0.437397</td>\n",
       "      <td>-0.843085</td>\n",
       "    </tr>\n",
       "    <tr>\n",
       "      <th>rating_year</th>\n",
       "      <td>0.057763</td>\n",
       "      <td>0.437397</td>\n",
       "      <td>1.000000</td>\n",
       "      <td>0.114846</td>\n",
       "    </tr>\n",
       "    <tr>\n",
       "      <th>rate_delay</th>\n",
       "      <td>0.089808</td>\n",
       "      <td>-0.843085</td>\n",
       "      <td>0.114846</td>\n",
       "      <td>1.000000</td>\n",
       "    </tr>\n",
       "  </tbody>\n",
       "</table>\n",
       "</div>"
      ],
      "text/plain": [
       "               rating  movie_year  rating_year  rate_delay\n",
       "rating       1.000000   -0.050029     0.057763    0.089808\n",
       "movie_year  -0.050029    1.000000     0.437397   -0.843085\n",
       "rating_year  0.057763    0.437397     1.000000    0.114846\n",
       "rate_delay   0.089808   -0.843085     0.114846    1.000000"
      ]
     },
     "execution_count": 38,
     "metadata": {},
     "output_type": "execute_result"
    }
   ],
   "source": [
    "late_ratings.corr()"
   ]
  },
  {
   "cell_type": "markdown",
   "metadata": {},
   "source": [
    "## Bulgu 2\n",
    "Sci-Fi kategorili filmlerin cikis yili icinde verilen oylarin dagilimi ile, daha sonrasinda verilen oylarin dagilimi arasinda fark bulunamamistir. *4 > 3 > 5 > 2 > 1* seklinde dagilim siralamasi aradan yillar gecse de **kendini korumaktadir**."
   ]
  },
  {
   "cell_type": "markdown",
   "metadata": {},
   "source": [
    "Genel olarak her iki veri setine bakildiginda filmin uzerinden gecen yil sayisi gozetmeksizin ayni oranda puan dagilimi gorulmektedir."
   ]
  },
  {
   "cell_type": "code",
   "execution_count": 39,
   "metadata": {},
   "outputs": [
    {
     "data": {
      "image/png": "[encoded data removed]",
      "text/plain": [
       "<Figure size 576x360 with 1 Axes>"
      ]
     },
     "metadata": {},
     "output_type": "display_data"
    }
   ],
   "source": [
    "same_year_ratings.rating.plot(kind='hist', color='lightgray', edgecolor='darkgray', figsize=(8,5))\n",
    "\n",
    "plt.title('Filmin Cikis Yili Icinde Puan Dagilimi')\n",
    "plt.xlabel('Verilen Puan')\n",
    "plt.ylabel('Oy Sayisi')\n",
    "plt.grid()"
   ]
  },
  {
   "cell_type": "code",
   "execution_count": 40,
   "metadata": {},
   "outputs": [
    {
     "data": {
      "image/png": "[encoded data removed]",
      "text/plain": [
       "<Figure size 576x360 with 1 Axes>"
      ]
     },
     "metadata": {},
     "output_type": "display_data"
    }
   ],
   "source": [
    "late_ratings.rating.plot(kind='hist', color='lightgray', edgecolor='darkgray', figsize=(8,5))\n",
    "\n",
    "plt.title('Filmin Cikis Yili Sonrasinda Puan Dagilimi')\n",
    "plt.xlabel('Verilen Puan')\n",
    "plt.ylabel('Oy Sayisi')\n",
    "plt.grid()"
   ]
  },
  {
   "cell_type": "markdown",
   "metadata": {},
   "source": [
    "## Bulgu 3\n",
    "Sci-Fi kategorili filmlerin cikis yili sonrasinda verilen oylarin dagilimi ile, daha sonrasinda verilen oylarin dagilimi arasinda fark bulunamamistir. *4 > 3 > 5 > 2 > 1* seklinde dagilim siralamasi aradan yillar gecse de **kendini korumaktadir**."
   ]
  },
  {
   "cell_type": "code",
   "execution_count": 41,
   "metadata": {},
   "outputs": [
    {
     "data": {
      "image/png": "[encoded data removed]",
      "text/plain": [
       "<Figure size 432x288 with 1 Axes>"
      ]
     },
     "metadata": {},
     "output_type": "display_data"
    }
   ],
   "source": [
    "# dataset icinden bir orneklem alalim\n",
    "late_ratings_sample = late_ratings.sample(1000)\n",
    "\n",
    "rating = late_ratings_sample['rating'].values\n",
    "rate_delay = late_ratings_sample['rate_delay'].values\n",
    "\n",
    "plt.title('Filmin Uzerinden Gecen Yillarin Verilen Puana Dagilimi')\n",
    "plt.xlabel('Verilen Puan')\n",
    "plt.ylabel('Gecen Yil')\n",
    "plot = plt.scatter(rating, rate_delay)"
   ]
  },
  {
   "cell_type": "markdown",
   "metadata": {},
   "source": [
    "## Bulgu 4\n",
    "...."
   ]
  },
  {
   "cell_type": "code",
   "execution_count": null,
   "metadata": {},
   "outputs": [],
   "source": []
  }
 ],
 "metadata": {
  "kernelspec": {
   "display_name": "Python 3",
   "language": "python",
   "name": "python3"
  },
  "language_info": {
   "codemirror_mode": {
    "name": "ipython",
    "version": 3
   },
   "file_extension": ".py",
   "mimetype": "text/x-python",
   "name": "python",
   "nbconvert_exporter": "python",
   "pygments_lexer": "ipython3",
   "version": "3.7.6"
  }
 },
 "nbformat": 4,
 "nbformat_minor": 4
}
