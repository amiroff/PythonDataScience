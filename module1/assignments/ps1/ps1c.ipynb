{
 "cells": [
  {
   "cell_type": "code",
   "execution_count": 1,
   "metadata": {},
   "outputs": [],
   "source": [
    "from typing import Tuple\n",
    "\n",
    "# constants\n",
    "SEMI_ANNUAL_RAISE = 0.07\n",
    "ANNUAL_RETURN = 0.04\n",
    "DOWN_PAYMENT_RATE = 0.25\n",
    "TOTAL_COST = 1000000\n",
    "PORTION_DOWN_PAYMENT = TOTAL_COST * DOWN_PAYMENT_RATE\n",
    "MONTHS = 36\n",
    "BUFFER = 100"
   ]
  },
  {
   "cell_type": "code",
   "execution_count": 2,
   "metadata": {},
   "outputs": [],
   "source": [
    "def calculate_savings_rate(starting_salary: int) -> Tuple[float, float]:\n",
    "    \"\"\"Calculates the best savings rate and number of bisect steps required\n",
    "    to calculate it, as a function of starting salary.\n",
    "\n",
    "    Arguments:\n",
    "        starting_salary {int} -- Starting salary\n",
    "\n",
    "    Returns:\n",
    "        Tuple[float, float] -- A tuple of rate and steps\n",
    "\n",
    "    >>> calculate_savings_rate(150000)\n",
    "    (0.4414, 12)\n",
    "    >>> calculate_savings_rate(300000)\n",
    "    (0.2226, 9)\n",
    "    >>> calculate_savings_rate(10000)\n",
    "    (0, 0)\n",
    "\n",
    "    \"\"\"\n",
    "\n",
    "\n",
    "    rate_min = 0\n",
    "    rate_max = 10000\n",
    "    portion_saved = int((rate_max + rate_min) / 2)\n",
    "    steps = 0\n",
    "    possible_to_save = False\n",
    "\n",
    "    while abs(rate_min - rate_max) > 1:\n",
    "        steps += 1\n",
    "        annual_salary = starting_salary\n",
    "        monthly_savings = (annual_salary / 12) * (portion_saved / 10000)\n",
    "        current_savings = 0.0\n",
    "\n",
    "        # iterate over months and add up savings\n",
    "        for current_month in range(1, MONTHS + 1):\n",
    "            monthly_return = current_savings * (ANNUAL_RETURN / 12)\n",
    "            current_savings = current_savings + monthly_return + monthly_savings\n",
    "\n",
    "            # decide whether to update rate_min\n",
    "            if abs(current_savings - PORTION_DOWN_PAYMENT) < BUFFER:\n",
    "                rate_min = rate_max\n",
    "                # save success\n",
    "                possible_to_save = True\n",
    "                break\n",
    "            elif current_savings > PORTION_DOWN_PAYMENT + BUFFER:\n",
    "                break\n",
    "\n",
    "            # raise salary if it is time\n",
    "            if current_month % 6 == 0:\n",
    "                annual_salary += annual_salary * SEMI_ANNUAL_RAISE\n",
    "                monthly_savings = (annual_salary / 12) * (portion_saved / 10000)\n",
    "\n",
    "        # update low and high boundaries for rate\n",
    "        if current_savings < PORTION_DOWN_PAYMENT - BUFFER:\n",
    "            rate_min = portion_saved\n",
    "        elif current_savings > PORTION_DOWN_PAYMENT + BUFFER:\n",
    "            rate_max = portion_saved\n",
    "\n",
    "        # calculate new portion_saved for next iteration\n",
    "        portion_saved = int((rate_max + rate_min) / 2)\n",
    "\n",
    "    # decide what to return\n",
    "    if possible_to_save:\n",
    "        return (portion_saved / 10000, steps)\n",
    "    else:\n",
    "        return (0, 0)"
   ]
  },
  {
   "cell_type": "code",
   "execution_count": 4,
   "metadata": {},
   "outputs": [
    {
     "name": "stdout",
     "output_type": "stream",
     "text": [
      "Your starting annual salary: 10000\n",
      "It is not possible to pay the down payment in three years.\n"
     ]
    }
   ],
   "source": [
    "salary = float(input(\"Your starting annual salary: \"))\n",
    "(rate, steps) = calculate_savings_rate(salary)\n",
    "if rate == 0:\n",
    "    print(\"It is not possible to pay the down payment in three years.\")\n",
    "else:\n",
    "    print(f\"Best savings rate (%): {rate}\")\n",
    "    print(f\"Steps in bisection search: {steps}\")"
   ]
  },
  {
   "cell_type": "code",
   "execution_count": null,
   "metadata": {},
   "outputs": [],
   "source": []
  }
 ],
 "metadata": {
  "kernelspec": {
   "display_name": "Python 3",
   "language": "python",
   "name": "python3"
  },
  "language_info": {
   "codemirror_mode": {
    "name": "ipython",
    "version": 3
   },
   "file_extension": ".py",
   "mimetype": "text/x-python",
   "name": "python",
   "nbconvert_exporter": "python",
   "pygments_lexer": "ipython3",
   "version": "3.7.3"
  }
 },
 "nbformat": 4,
 "nbformat_minor": 4
}
