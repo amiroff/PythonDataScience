{
 "cells": [
  {
   "cell_type": "code",
   "execution_count": 1,
   "metadata": {},
   "outputs": [],
   "source": [
    "PORTION_DOWN_PAYMENT = 0.25\n",
    "R = 0.04"
   ]
  },
  {
   "cell_type": "code",
   "execution_count": 2,
   "metadata": {},
   "outputs": [],
   "source": [
    "def calculate_months(annual_salary: float,\n",
    "                     portion_saved: float,\n",
    "                     total_cost: float) -> int:\n",
    "    \"\"\"Calculates months need to to save downpayment\n",
    "\n",
    "    Arguments:\n",
    "        annual_salary {float} -- Annual salary\n",
    "        portion_saved {float} -- Portion of salary saved monthly\n",
    "        total_cost {float} -- Total cost of a house\n",
    "\n",
    "    Returns:\n",
    "        int -- Months needed for downpayment\n",
    "\n",
    "    >>> calculate_months(120000, 0.1, 1000000)\n",
    "    183\n",
    "    >>> calculate_months(80000, 0.15, 500000)\n",
    "    105\n",
    "\n",
    "    \"\"\"\n",
    "\n",
    "    # initial values\n",
    "    current_savings = 0.0\n",
    "    needed_months = 0\n",
    "\n",
    "    # define basic rates\n",
    "    monthly_salary = annual_salary / 12\n",
    "    needed_down_payment = total_cost * PORTION_DOWN_PAYMENT\n",
    "\n",
    "    # iterate over months and add up savings\n",
    "    while current_savings <= needed_down_payment:\n",
    "        current_savings += current_savings * R / 12\n",
    "        current_savings += portion_saved * monthly_salary\n",
    "        needed_months += 1\n",
    "\n",
    "    return needed_months"
   ]
  },
  {
   "cell_type": "code",
   "execution_count": 3,
   "metadata": {},
   "outputs": [
    {
     "name": "stdout",
     "output_type": "stream",
     "text": [
      "Your starting annual salary: 120000\n",
      "Your portion of salary to be saved: 0.1\n",
      "The cost of your dream home: 1000000\n",
      "You will need 183 months to save for downpayment\n"
     ]
    }
   ],
   "source": [
    "salary = float(input(\"Your starting annual salary: \"))\n",
    "saved = float(input(\"Your portion of salary to be saved: \"))\n",
    "cost = float(input(\"The cost of your dream home: \"))\n",
    "\n",
    "months = calculate_months(salary, saved, cost)\n",
    "print(f\"You will need {months} months to save for downpayment\")"
   ]
  },
  {
   "cell_type": "code",
   "execution_count": null,
   "metadata": {},
   "outputs": [],
   "source": []
  }
 ],
 "metadata": {
  "kernelspec": {
   "display_name": "Python 3",
   "language": "python",
   "name": "python3"
  },
  "language_info": {
   "codemirror_mode": {
    "name": "ipython",
    "version": 3
   },
   "file_extension": ".py",
   "mimetype": "text/x-python",
   "name": "python",
   "nbconvert_exporter": "python",
   "pygments_lexer": "ipython3",
   "version": "3.7.3"
  }
 },
 "nbformat": 4,
 "nbformat_minor": 4
}
