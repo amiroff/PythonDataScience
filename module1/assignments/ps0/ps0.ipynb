{
 "cells": [
  {
   "cell_type": "markdown",
   "metadata": {},
   "source": [
    "Write a program that does the following in order:\n",
    "\n",
    "- Asks the user to enter a number “x”\n",
    "- Asks the user to enter a number “y”\n",
    "- Prints out number “x”, raised to the power “y”.\n",
    "- Prints out the log (base 2) of “x”."
   ]
  },
  {
   "cell_type": "code",
   "execution_count": 6,
   "metadata": {},
   "outputs": [
    {
     "name": "stdout",
     "output_type": "stream",
     "text": [
      "Please enter number \"x\": \n",
      "3\n",
      "Please enter number \"y\": \n",
      "6\n",
      "Number 3 raised to the power of 6 (x**y) is: 729\n",
      "log of 3 (log(x)) is: 1.584962500721156\n"
     ]
    }
   ],
   "source": [
    "print('Please enter number \"x\": ')\n",
    "x = int(input())\n",
    "print('Please enter number \"y\": ')\n",
    "y = int(input())\n",
    "print(f\"Number {x} raised to the power of {y} (x**y) is: {x**y}\")\n",
    "import numpy\n",
    "print(f\"log of {x} (log(x)) is: {numpy.log2(x)}\")"
   ]
  },
  {
   "cell_type": "code",
   "execution_count": null,
   "metadata": {},
   "outputs": [],
   "source": []
  }
 ],
 "metadata": {
  "kernelspec": {
   "display_name": "Python 3",
   "language": "python",
   "name": "python3"
  },
  "language_info": {
   "codemirror_mode": {
    "name": "ipython",
    "version": 3
   },
   "file_extension": ".py",
   "mimetype": "text/x-python",
   "name": "python",
   "nbconvert_exporter": "python",
   "pygments_lexer": "ipython3",
   "version": "3.7.3"
  }
 },
 "nbformat": 4,
 "nbformat_minor": 4
}
